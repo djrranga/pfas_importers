{
 "cells": [
  {
   "cell_type": "code",
   "execution_count": 1,
   "id": "c74a56ae",
   "metadata": {},
   "outputs": [],
   "source": [
    "%load_ext autoreload\n",
    "%autoreload 2"
   ]
  },
  {
   "cell_type": "code",
   "execution_count": 2,
   "id": "0dab2f01",
   "metadata": {},
   "outputs": [
    {
     "data": {
      "application/vnd.jupyter.widget-view+json": {
       "model_id": "6ff6c3c8573840d181f53314568a4120",
       "version_major": 2,
       "version_minor": 0
      },
      "text/plain": []
     },
     "metadata": {},
     "output_type": "display_data"
    },
    {
     "name": "stderr",
     "output_type": "stream",
     "text": [
      "/home/dhruv/miniconda3/envs/dock/lib/python3.10/site-packages/nglview/__init__.py:12: UserWarning: pkg_resources is deprecated as an API. See https://setuptools.pypa.io/en/latest/pkg_resources.html. The pkg_resources package is slated for removal as early as 2025-11-30. Refrain from using this package or pin to Setuptools<81.\n",
      "  import pkg_resources\n"
     ]
    }
   ],
   "source": [
    "import pandas as pd\n",
    "from util.fpocket import *\n",
    "import nglview as nv\n",
    "import re\n",
    "import random\n",
    "from pathlib import Path, PurePath\n",
    "import ipywidgets as widgets"
   ]
  },
  {
   "cell_type": "markdown",
   "id": "4bd22d83",
   "metadata": {},
   "source": [
    "## Identification of binding pockets with `fpocket`"
   ]
  },
  {
   "cell_type": "code",
   "execution_count": 3,
   "id": "5f0c6a61",
   "metadata": {},
   "outputs": [],
   "source": [
    "work_dir = \"yaau\""
   ]
  },
  {
   "cell_type": "code",
   "execution_count": 4,
   "id": "33e50054",
   "metadata": {},
   "outputs": [],
   "source": [
    "if not os.path.exists(f\"{work_dir}/yaau_AF_out\"):\n",
    "    fpocket(f\"{work_dir}/yaau_AF.pdb\", f\"{work_dir}/yaau_AF_out\")"
   ]
  },
  {
   "cell_type": "markdown",
   "id": "45631b0d",
   "metadata": {},
   "source": [
    "Top 5 pockets"
   ]
  },
  {
   "cell_type": "code",
   "execution_count": 5,
   "id": "83727faa",
   "metadata": {},
   "outputs": [
    {
     "data": {
      "text/html": [
       "<div>\n",
       "<style scoped>\n",
       "    .dataframe tbody tr th:only-of-type {\n",
       "        vertical-align: middle;\n",
       "    }\n",
       "\n",
       "    .dataframe tbody tr th {\n",
       "        vertical-align: top;\n",
       "    }\n",
       "\n",
       "    .dataframe thead th {\n",
       "        text-align: right;\n",
       "    }\n",
       "</style>\n",
       "<table border=\"1\" class=\"dataframe\">\n",
       "  <thead>\n",
       "    <tr style=\"text-align: right;\">\n",
       "      <th></th>\n",
       "      <th>Score</th>\n",
       "      <th>Druggability Score</th>\n",
       "      <th>Number of Alpha Spheres</th>\n",
       "      <th>Total SASA</th>\n",
       "      <th>Polar SASA</th>\n",
       "      <th>Apolar SASA</th>\n",
       "      <th>Volume</th>\n",
       "      <th>Mean local hydrophobic density</th>\n",
       "      <th>Mean alpha sphere radius</th>\n",
       "      <th>Mean alpha sphere solvent accessibility</th>\n",
       "      <th>Apolar alpha sphere proportion</th>\n",
       "      <th>Hydrophobicity score</th>\n",
       "      <th>Volume score</th>\n",
       "      <th>Polarity score</th>\n",
       "      <th>Charge score</th>\n",
       "      <th>Proportion of polar atoms</th>\n",
       "      <th>Alpha sphere density</th>\n",
       "      <th>Center of mass - alpha sphere max distance</th>\n",
       "      <th>Flexibility</th>\n",
       "    </tr>\n",
       "  </thead>\n",
       "  <tbody>\n",
       "    <tr>\n",
       "      <th>Pocket 6</th>\n",
       "      <td>0.059</td>\n",
       "      <td>0.789</td>\n",
       "      <td>54.0</td>\n",
       "      <td>131.087</td>\n",
       "      <td>4.286</td>\n",
       "      <td>126.801</td>\n",
       "      <td>355.788</td>\n",
       "      <td>42.98</td>\n",
       "      <td>3.829</td>\n",
       "      <td>0.461</td>\n",
       "      <td>0.944</td>\n",
       "      <td>58.8</td>\n",
       "      <td>3.933</td>\n",
       "      <td>2.0</td>\n",
       "      <td>0.0</td>\n",
       "      <td>15.152</td>\n",
       "      <td>4.443</td>\n",
       "      <td>11.077</td>\n",
       "      <td>0.945</td>\n",
       "    </tr>\n",
       "    <tr>\n",
       "      <th>Pocket 7</th>\n",
       "      <td>0.054</td>\n",
       "      <td>0.764</td>\n",
       "      <td>93.0</td>\n",
       "      <td>201.885</td>\n",
       "      <td>49.486</td>\n",
       "      <td>152.399</td>\n",
       "      <td>634.339</td>\n",
       "      <td>47.298</td>\n",
       "      <td>3.85</td>\n",
       "      <td>0.421</td>\n",
       "      <td>0.613</td>\n",
       "      <td>26.75</td>\n",
       "      <td>4.3</td>\n",
       "      <td>12.0</td>\n",
       "      <td>2.0</td>\n",
       "      <td>30.769</td>\n",
       "      <td>5.163</td>\n",
       "      <td>12.139</td>\n",
       "      <td>0.565</td>\n",
       "    </tr>\n",
       "    <tr>\n",
       "      <th>Pocket 9</th>\n",
       "      <td>0.04</td>\n",
       "      <td>0.167</td>\n",
       "      <td>42.0</td>\n",
       "      <td>104.383</td>\n",
       "      <td>5.357</td>\n",
       "      <td>99.025</td>\n",
       "      <td>316.89</td>\n",
       "      <td>29.515</td>\n",
       "      <td>3.896</td>\n",
       "      <td>0.582</td>\n",
       "      <td>0.786</td>\n",
       "      <td>70.444</td>\n",
       "      <td>3.778</td>\n",
       "      <td>0.0</td>\n",
       "      <td>0.0</td>\n",
       "      <td>29.63</td>\n",
       "      <td>3.65</td>\n",
       "      <td>9.355</td>\n",
       "      <td>0.953</td>\n",
       "    </tr>\n",
       "    <tr>\n",
       "      <th>Pocket 11</th>\n",
       "      <td>0.034</td>\n",
       "      <td>0.154</td>\n",
       "      <td>31.0</td>\n",
       "      <td>124.804</td>\n",
       "      <td>1.071</td>\n",
       "      <td>123.732</td>\n",
       "      <td>425.753</td>\n",
       "      <td>23.241</td>\n",
       "      <td>3.92</td>\n",
       "      <td>0.593</td>\n",
       "      <td>0.935</td>\n",
       "      <td>66.182</td>\n",
       "      <td>4.364</td>\n",
       "      <td>3.0</td>\n",
       "      <td>0.0</td>\n",
       "      <td>17.857</td>\n",
       "      <td>4.861</td>\n",
       "      <td>11.551</td>\n",
       "      <td>0.97</td>\n",
       "    </tr>\n",
       "    <tr>\n",
       "      <th>Pocket 18</th>\n",
       "      <td>-0.042</td>\n",
       "      <td>0.108</td>\n",
       "      <td>39.0</td>\n",
       "      <td>87.612</td>\n",
       "      <td>4.286</td>\n",
       "      <td>83.326</td>\n",
       "      <td>268.723</td>\n",
       "      <td>32.0</td>\n",
       "      <td>4.199</td>\n",
       "      <td>0.603</td>\n",
       "      <td>0.846</td>\n",
       "      <td>70.0</td>\n",
       "      <td>4.571</td>\n",
       "      <td>0.0</td>\n",
       "      <td>0.0</td>\n",
       "      <td>13.636</td>\n",
       "      <td>2.18</td>\n",
       "      <td>6.497</td>\n",
       "      <td>0.899</td>\n",
       "    </tr>\n",
       "  </tbody>\n",
       "</table>\n",
       "</div>"
      ],
      "text/plain": [
       "           Score Druggability Score Number of Alpha Spheres Total SASA  \\\n",
       "Pocket 6   0.059              0.789                    54.0    131.087   \n",
       "Pocket 7   0.054              0.764                    93.0    201.885   \n",
       "Pocket 9    0.04              0.167                    42.0    104.383   \n",
       "Pocket 11  0.034              0.154                    31.0    124.804   \n",
       "Pocket 18 -0.042              0.108                    39.0     87.612   \n",
       "\n",
       "          Polar SASA Apolar SASA   Volume Mean local hydrophobic density  \\\n",
       "Pocket 6       4.286     126.801  355.788                          42.98   \n",
       "Pocket 7      49.486     152.399  634.339                         47.298   \n",
       "Pocket 9       5.357      99.025   316.89                         29.515   \n",
       "Pocket 11      1.071     123.732  425.753                         23.241   \n",
       "Pocket 18      4.286      83.326  268.723                           32.0   \n",
       "\n",
       "          Mean alpha sphere radius Mean alpha sphere solvent accessibility  \\\n",
       "Pocket 6                     3.829                                   0.461   \n",
       "Pocket 7                      3.85                                   0.421   \n",
       "Pocket 9                     3.896                                   0.582   \n",
       "Pocket 11                     3.92                                   0.593   \n",
       "Pocket 18                    4.199                                   0.603   \n",
       "\n",
       "          Apolar alpha sphere proportion Hydrophobicity score Volume score  \\\n",
       "Pocket 6                           0.944                 58.8        3.933   \n",
       "Pocket 7                           0.613                26.75          4.3   \n",
       "Pocket 9                           0.786               70.444        3.778   \n",
       "Pocket 11                          0.935               66.182        4.364   \n",
       "Pocket 18                          0.846                 70.0        4.571   \n",
       "\n",
       "          Polarity score Charge score Proportion of polar atoms  \\\n",
       "Pocket 6             2.0          0.0                    15.152   \n",
       "Pocket 7            12.0          2.0                    30.769   \n",
       "Pocket 9             0.0          0.0                     29.63   \n",
       "Pocket 11            3.0          0.0                    17.857   \n",
       "Pocket 18            0.0          0.0                    13.636   \n",
       "\n",
       "          Alpha sphere density Center of mass - alpha sphere max distance  \\\n",
       "Pocket 6                 4.443                                     11.077   \n",
       "Pocket 7                 5.163                                     12.139   \n",
       "Pocket 9                  3.65                                      9.355   \n",
       "Pocket 11                4.861                                     11.551   \n",
       "Pocket 18                 2.18                                      6.497   \n",
       "\n",
       "          Flexibility  \n",
       "Pocket 6        0.945  \n",
       "Pocket 7        0.565  \n",
       "Pocket 9        0.953  \n",
       "Pocket 11        0.97  \n",
       "Pocket 18       0.899  "
      ]
     },
     "execution_count": 5,
     "metadata": {},
     "output_type": "execute_result"
    }
   ],
   "source": [
    "pockets = parse_fpocket_info(f\"{work_dir}/yaau_AF_out\")\n",
    "pockets = pockets.sort_values(\"Druggability Score\", ascending=False)\n",
    "pockets.head()"
   ]
  },
  {
   "cell_type": "code",
   "execution_count": 6,
   "id": "4cee7535",
   "metadata": {},
   "outputs": [
    {
     "data": {
      "application/vnd.jupyter.widget-view+json": {
       "model_id": "d02b451c0a7f43379ec05eab73d47892",
       "version_major": 2,
       "version_minor": 0
      },
      "text/plain": [
       "NGLWidget()"
      ]
     },
     "metadata": {},
     "output_type": "display_data"
    }
   ],
   "source": [
    "# random colors for cavities\n",
    "r = lambda: random.randint(0, 255)\n",
    "pockets_dir = f\"{work_dir}/yaau_AF_out/pockets\"\n",
    "path_pockets = [str(i) for i in Path(pockets_dir).iterdir()]\n",
    "path_pockets_pdb = [\n",
    "    str(i) for i in Path(pockets_dir).iterdir() if PurePath(i).suffix == \".pdb\"\n",
    "]\n",
    "path_pockets_pqr = [\n",
    "    str(i) for i in Path(pockets_dir).iterdir() if PurePath(i).suffix == \".pqr\"\n",
    "]\n",
    "\n",
    "# determine top-5 pockets from previous 'pockets' dataframe\n",
    "top5_nums = []\n",
    "try:\n",
    "    idxs = pockets.head(5).index.astype(str)\n",
    "    for s in idxs:\n",
    "        m = re.search(r\"(\\d+)\", s)\n",
    "        if m:\n",
    "            top5_nums.append(m.group(1))\n",
    "        elif s.isdigit():\n",
    "            top5_nums.append(s)\n",
    "except Exception:\n",
    "    # fallback: 1..5\n",
    "    top5_nums = [str(i) for i in range(1, 6)]\n",
    "top5_set = set(top5_nums)\n",
    "\n",
    "# load structure\n",
    "view = nv.NGLWidget()\n",
    "c = view.add_component(nv.FileStructure(f\"{work_dir}/yaau_AF.pdb\"))\n",
    "\n",
    "# load cavities (c) and pockets (p) and create pocketNames list (only top-5)\n",
    "c = {}\n",
    "p = {}\n",
    "pocket_names = []\n",
    "for pock in path_pockets:\n",
    "    g = re.findall(\"(?:pocket)(\\d+)(?:_\\w+)\\.(\\w+)\", pock)\n",
    "    if not g:\n",
    "        continue\n",
    "    i = g[0][0]\n",
    "    suff = g[0][1]\n",
    "    if i not in top5_set:\n",
    "        continue\n",
    "    if not [item for item in pocket_names if (\"pocket\" + i) in item]:\n",
    "        pocket_names.append((\"pocket\" + i, int(i)))\n",
    "\n",
    "    if suff == \"pdb\":\n",
    "        c[i] = view.add_component(\n",
    "            filename=nv.FileStructure(pock), **{\"name\": \"pocket\" + i}\n",
    "        )\n",
    "        c[i].clear()\n",
    "    else:\n",
    "        p[i] = view.add_component(\n",
    "            filename=nv.FileStructure(pock), **{\"name\": \"pocket\" + i}\n",
    "        )\n",
    "        p[i].clear()\n",
    "\n",
    "# sort pocket names\n",
    "pocket_names.sort(key=lambda tup: tup[1])\n",
    "\n",
    "# representation for cavities (only top-5)\n",
    "for pock in path_pockets_pdb:\n",
    "    g = re.findall(\"(?:pocket)(\\d+)(?:_\\w+)\\.(\\w+)\", pock)\n",
    "    if not g:\n",
    "        continue\n",
    "    i = g[0][0]\n",
    "    if i not in top5_set:\n",
    "        continue\n",
    "    c[i].add_surface(\n",
    "        color=\"#cc0000\",\n",
    "        radius=\"1.5\",\n",
    "        lowResolution=True,\n",
    "        # 0: low resolution\n",
    "        smooth=1,\n",
    "        # useWorker= True,\n",
    "        wrap=True,\n",
    "    )\n",
    "\n",
    "# representation for pockets (only top-5)\n",
    "for pock in path_pockets_pqr:\n",
    "    g = re.findall(\"(?:pocket)(\\d+)(?:_\\w+)\\.(\\w+)\", pock)\n",
    "    if not g:\n",
    "        continue\n",
    "    i = g[0][0]\n",
    "    if i not in top5_set:\n",
    "        continue\n",
    "    p[i].add_surface(component=i, color=\"skyblue\", surfaceType=\"av\", contour=True)\n",
    "\n",
    "view.center()\n",
    "view._remote_call(\"setSize\", target=\"Widget\", args=[\"\", \"600px\"])\n",
    "view\n",
    "\n",
    "# show pocket labels\n",
    "code = \"\"\"\n",
    "var stage = this.stage;\n",
    "var view = this.stage.viewer;\n",
    "var clist_len = stage.compList.length;\n",
    "var i = 0;\n",
    "for(i = 0; i <= clist_len; i++){\n",
    "    if(stage.compList[i] != undefined && stage.compList[i].structure != undefined && stage.compList[i].parameters.ext === 'pqr') {        \n",
    "\n",
    "        var elm = document.createElement(\"div\");\n",
    "        elm.innerText = 'pocket' + stage.compList[i].object.name.match(/\\d+/g)\n",
    "        elm.style.color = \"black\";\n",
    "        elm.style.background = \"rgba(201, 149, 6, .8)\";\n",
    "        elm.style.padding = \"8px\";\n",
    "        \n",
    "        stage.compList[i].addAnnotation(stage.compList[i].structure.center, elm)\n",
    "    }\n",
    "}\n",
    "\"\"\"\n",
    "\n",
    "view._execute_js_code(code)\n",
    "\n",
    "view"
   ]
  },
  {
   "cell_type": "code",
   "execution_count": 7,
   "id": "08cac33c",
   "metadata": {},
   "outputs": [
    {
     "data": {
      "application/vnd.jupyter.widget-view+json": {
       "model_id": "2c9898727e0147e48e1ed29432ab778b",
       "version_major": 2,
       "version_minor": 0
      },
      "text/plain": [
       "Dropdown(description='Select pocket:', options=(('pocket6', 6), ('pocket7', 7), ('pocket9', 9), ('pocket11', 1…"
      ]
     },
     "metadata": {},
     "output_type": "display_data"
    }
   ],
   "source": [
    "mdsel = widgets.Dropdown(\n",
    "    options=pocket_names,\n",
    "    description='Select pocket:',\n",
    "    disabled=False,\n",
    ")\n",
    "display(mdsel)"
   ]
  },
  {
   "cell_type": "code",
   "execution_count": 13,
   "id": "f41a5568",
   "metadata": {},
   "outputs": [],
   "source": [
    "cx, cy, cz =centroid(work_dir + f\"/{work_dir}_AF_out/pockets\", mdsel.value)"
   ]
  },
  {
   "cell_type": "markdown",
   "id": "fd17c350",
   "metadata": {},
   "source": [
    "## Docking"
   ]
  },
  {
   "cell_type": "markdown",
   "id": "662f63ff",
   "metadata": {},
   "source": [
    "Ligand preparation"
   ]
  },
  {
   "cell_type": "code",
   "execution_count": null,
   "id": "b6ddb600",
   "metadata": {},
   "outputs": [
    {
     "name": "stdout",
     "output_type": "stream",
     "text": [
      "warning: found the maximum nr of matches (17) in RDKitMolSetup.get_symmetries_for_rmsd\n",
      "Maybe this molecule is \"too\" symmetric?  O=S(=O)(O)C(F)(F)C(F)(F)C(F)(F)C(F)(F)C(F)(F)C(F)(F)C(F)(F)C(F)(F)F\n"
     ]
    }
   ],
   "source": [
    "from meeko import MoleculePreparation\n",
    "from meeko import PDBQTWriterLegacy\n",
    "from rdkit import Chem\n",
    "from rdkit.Chem import AllChem\n",
    "from scrubber import Scrub\n",
    "\n",
    "scrub = Scrub(\n",
    "    ph_low=7.4,\n",
    "    ph_high=7.4,\n",
    ")\n",
    "\n",
    "mol = Chem.MolFromSmiles(\n",
    "    \"C(C(C(C(C(F)(F)S(=O)(=O)O)(F)F)(F)F)(F)F)(C(C(C(F)(F)F)(F)F)(F)F)(F)F\"\n",
    ")\n",
    "mol = Chem.AddHs(mol)\n",
    "AllChem.EmbedMolecule(mol)\n",
    "\n",
    "mk_prep = MoleculePreparation()\n",
    "molsetup_list = mk_prep(mol)\n",
    "\n",
    "molsetup = molsetup_list[0]\n",
    "\n",
    "pdbqt_string = PDBQTWriterLegacy.write_string(molsetup)\n",
    "\n",
    "Path(work_dir, \"ad\").mkdir(parents=True, exist_ok=True)\n",
    "with open(f'{work_dir}/ad/ligand.pdbqt', 'w') as f:\n",
    "    f.write(pdbqt_string[0])"
   ]
  },
  {
   "cell_type": "markdown",
   "id": "0e98a386",
   "metadata": {},
   "source": [
    "Receptor preparation"
   ]
  },
  {
   "cell_type": "code",
   "execution_count": 15,
   "id": "ed545d07",
   "metadata": {},
   "outputs": [
    {
     "name": "stderr",
     "output_type": "stream",
     "text": [
      "@> 3424 atoms and 1 coordinate set(s) were parsed in 0.01s.\n"
     ]
    },
    {
     "name": "stdout",
     "output_type": "stream",
     "text": [
      "\n",
      "Files written:\n",
      "ad/prepared.pdbqt <-- static (i.e., rigid) receptor input file\n"
     ]
    },
    {
     "data": {
      "text/plain": [
       "CompletedProcess(args=['mk_prepare_receptor.py', '-i', 'yaau_AF.pdb', '-o', 'ad/prepared', '-p', '--box_center', '-1.162629629629629', '12.23062962962963', '-14.933537037037038', '--box_size', '24', '24', '24'], returncode=0)"
      ]
     },
     "execution_count": 15,
     "metadata": {},
     "output_type": "execute_result"
    }
   ],
   "source": [
    "command = [\"mk_prepare_receptor.py\", \"-i\", f\"{work_dir}_AF.pdb\", \"-o\", \"ad/prepared\", \"-p\", \"--box_center\", str(cx), str(cy), str(cz), \"--box_size\", \"24\", \"24\", \"24\"]\n",
    "subprocess.run(command, check=True, cwd=work_dir)"
   ]
  }
 ],
 "metadata": {
  "kernelspec": {
   "display_name": "dock",
   "language": "python",
   "name": "python3"
  },
  "language_info": {
   "codemirror_mode": {
    "name": "ipython",
    "version": 3
   },
   "file_extension": ".py",
   "mimetype": "text/x-python",
   "name": "python",
   "nbconvert_exporter": "python",
   "pygments_lexer": "ipython3",
   "version": "3.10.18"
  }
 },
 "nbformat": 4,
 "nbformat_minor": 5
}
